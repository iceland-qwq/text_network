{
 "cells": [
  {
   "cell_type": "code",
   "execution_count": 2,
   "metadata": {},
   "outputs": [],
   "source": [
    "from gensim.models import KeyedVectors\n",
    "from keras.models import load_model\n",
    "import pandas as pd\n",
    "from keras import preprocessing\n",
    "import jieba\n",
    "import numpy as np"
   ]
  },
  {
   "cell_type": "code",
   "execution_count": 3,
   "metadata": {},
   "outputs": [],
   "source": [
    "model_keras = load_model('model_keras_lstm.h5')#加载自己训练好的神经网络模型\n",
    "model = KeyedVectors.load_word2vec_format('100000-small.txt')#加载词向量"
   ]
  },
  {
   "cell_type": "code",
   "execution_count": 4,
   "metadata": {},
   "outputs": [],
   "source": [
    "\n",
    "\n",
    "def vec_index(text): #将每句话转化成词向量的形式    这里和network里面的是一样的\n",
    "    text = jieba.lcut(text)\n",
    "    for i in range(len(text)):\n",
    "        try :\n",
    "            index = model.wv.vocab[text[i]].index\n",
    "            text[i] = index\n",
    "        except:\n",
    "            text[i] = 0\n",
    "    return text\n",
    "\n",
    "\n",
    "def network_predict(text): #这个函数是将那些评论进行一个正负向的预测 \n",
    "\n",
    "    point = 0\n",
    "    for i in range(len(text)): #对每个评论进行词向量的转化 \n",
    "        text[i] = vec_index(text[i])\n",
    "\n",
    "    text  = preprocessing.sequence.pad_sequences(text,maxlen = 200) #将每个评论填充为200长度\n",
    "    text = np.array(text)\n",
    "    \n",
    "    \n",
    "    result = model_keras.predict_classes(text)#预测评论\n",
    "    for j in range(len(text)):\n",
    "        '''1代表正向 0代表负向'''\n",
    "        if result[j] == [1]:\n",
    "            point = point + 1 \n",
    "            #print('第%d句 正向'%(j+1))\n",
    "        else:\n",
    "            pass\n",
    "            #print('第%d句 负向'%(j+1))\n",
    "    return point/len(text)   #计算电影正向评论的比例"
   ]
  },
  {
   "cell_type": "code",
   "execution_count": 5,
   "metadata": {},
   "outputs": [
    {
     "name": "stderr",
     "output_type": "stream",
     "text": [
      "Building prefix dict from the default dictionary ...\n",
      "Loading model from cache C:\\Users\\DELL\\AppData\\Local\\Temp\\jieba.cache\n",
      "Loading model cost 0.657 seconds.\n",
      "Prefix dict has been built successfully.\n",
      "c:\\users\\dell\\appdata\\local\\programs\\python\\python37\\lib\\site-packages\\ipykernel_launcher.py:5: DeprecationWarning: Call to deprecated `wv` (Attribute will be removed in 4.0.0, use self instead).\n",
      "  \"\"\"\n",
      "c:\\users\\dell\\appdata\\local\\programs\\python\\python37\\lib\\site-packages\\ipykernel_launcher.py:16: SettingWithCopyWarning: \n",
      "A value is trying to be set on a copy of a slice from a DataFrame\n",
      "\n",
      "See the caveats in the documentation: http://pandas.pydata.org/pandas-docs/stable/user_guide/indexing.html#returning-a-view-versus-a-copy\n",
      "  app.launch_new_instance()\n"
     ]
    },
    {
     "name": "stdout",
     "output_type": "stream",
     "text": [
      "WARNING:tensorflow:From <ipython-input-4-8e0d8217f094>:22: Sequential.predict_classes (from tensorflow.python.keras.engine.sequential) is deprecated and will be removed after 2021-01-01.\n",
      "Instructions for updating:\n",
      "Please use instead:* `np.argmax(model.predict(x), axis=-1)`,   if your model does multi-class classification   (e.g. if it uses a `softmax` last-layer activation).* `(model.predict(x) > 0.5).astype(\"int32\")`,   if your model does binary classification   (e.g. if it uses a `sigmoid` last-layer activation).\n"
     ]
    }
   ],
   "source": [
    "pos = []\n",
    "for i in range(1,45): #读取每个电影的评论 \n",
    "    data = pd.read_csv('movie_comments/%d.csv'%i)\n",
    "    comments = data['comments']\n",
    "\n",
    "    pos.append(network_predict(comments))#预测评论的正负向  下面的警告是 二分类的问题他建议用sigmoid 我刚开始也用的sigmoid 但softmax能更好的显示出情感强度 \n",
    "    "
   ]
  },
  {
   "cell_type": "code",
   "execution_count": 6,
   "metadata": {
    "scrolled": false
   },
   "outputs": [
    {
     "data": {
      "text/plain": [
       "44"
      ]
     },
     "execution_count": 6,
     "metadata": {},
     "output_type": "execute_result"
    }
   ],
   "source": [
    "len(pos)"
   ]
  },
  {
   "cell_type": "code",
   "execution_count": 7,
   "metadata": {},
   "outputs": [],
   "source": [
    "\n",
    "star = pd.read_csv('movie_config.csv')['star'][1:45] #拿出刚开始爬虫记录好的电影评分\n"
   ]
  },
  {
   "cell_type": "code",
   "execution_count": 8,
   "metadata": {},
   "outputs": [],
   "source": [
    "import matplotlib.pyplot as plt"
   ]
  },
  {
   "cell_type": "code",
   "execution_count": 9,
   "metadata": {
    "scrolled": true
   },
   "outputs": [
    {
     "data": {
      "text/plain": [
       "<matplotlib.collections.PathCollection at 0x28a0dd95ba8>"
      ]
     },
     "execution_count": 9,
     "metadata": {},
     "output_type": "execute_result"
    },
    {
     "data": {
      "image/png": "[encoded data removed]",
      "text/plain": [
       "<Figure size 432x288 with 1 Axes>"
      ]
     },
     "metadata": {
      "needs_background": "light"
     },
     "output_type": "display_data"
    }
   ],
   "source": [
    "\n",
    "plt.scatter(pos,star) #可视化评分和正向评论比例的关系 可看出是正相关"
   ]
  },
  {
   "cell_type": "code",
   "execution_count": 10,
   "metadata": {},
   "outputs": [],
   "source": [
    "x = []\n",
    "y = []\n",
    "for i1 in range(len(star)):\n",
    "    y.append([star[i1+1]])\n",
    "for i in range(len(pos)):\n",
    "\n",
    "    x.append([pos[i]])\n",
    "\n"
   ]
  },
  {
   "cell_type": "code",
   "execution_count": 11,
   "metadata": {},
   "outputs": [],
   "source": [
    "from sklearn import linear_model"
   ]
  },
  {
   "cell_type": "code",
   "execution_count": 12,
   "metadata": {},
   "outputs": [
    {
     "data": {
      "text/plain": [
       "LinearRegression()"
      ]
     },
     "execution_count": 12,
     "metadata": {},
     "output_type": "execute_result"
    }
   ],
   "source": [
    "lin = linear_model.LinearRegression()#正相关 使用线性回归对这种正相关关系进行训练 这里定义了一个线性相关的模型 然后用来训练评分和正向评论的关系\n",
    "lin.fit(x,y)#训练"
   ]
  },
  {
   "cell_type": "code",
   "execution_count": 17,
   "metadata": {},
   "outputs": [
    {
     "data": {
      "text/plain": [
       "<matplotlib.collections.PathCollection at 0x28a28342080>"
      ]
     },
     "execution_count": 17,
     "metadata": {},
     "output_type": "execute_result"
    },
    {
     "data": {
      "image/png": "[encoded data removed]",
      "text/plain": [
       "<Figure size 432x288 with 1 Axes>"
      ]
     },
     "metadata": {
      "needs_background": "light"
     },
     "output_type": "display_data"
    }
   ],
   "source": [
    "plt_y = lin.predict(x) #可视化线性回归的曲线  中间那个线 就是根据两者关系的拟合的一条直线\n",
    "plt.plot(x,plt_y)\n",
    "plt.scatter(x,y)#画图"
   ]
  },
  {
   "cell_type": "code",
   "execution_count": 19,
   "metadata": {},
   "outputs": [
    {
     "data": {
      "text/plain": [
       "array([[7.83901364]])"
      ]
     },
     "execution_count": 19,
     "metadata": {},
     "output_type": "execute_result"
    }
   ],
   "source": [
    "#输入正向评论的比例 即可预测电影的评论\n",
    "\n",
    "lin.predict([[0.6]])\n",
    "\n",
    "#既电影在正向评论比例为0.6时 电影的评分一般在7.83左右"
   ]
  },
  {
   "cell_type": "code",
   "execution_count": null,
   "metadata": {},
   "outputs": [],
   "source": []
  }
 ],
 "metadata": {
  "kernelspec": {
   "display_name": "Python 3",
   "language": "python",
   "name": "python3"
  },
  "language_info": {
   "codemirror_mode": {
    "name": "ipython",
    "version": 3
   },
   "file_extension": ".py",
   "mimetype": "text/x-python",
   "name": "python",
   "nbconvert_exporter": "python",
   "pygments_lexer": "ipython3",
   "version": "3.7.0"
  }
 },
 "nbformat": 4,
 "nbformat_minor": 4
}
